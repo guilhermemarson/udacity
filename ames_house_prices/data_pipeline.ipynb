{
 "cells": [
  {
   "cell_type": "markdown",
   "metadata": {},
   "source": [
    "# Data Pipeline\n",
    "### This script will run all data transformation to go from \"raw\" data to \"modelling\" data."
   ]
  },
  {
   "cell_type": "code",
   "execution_count": 214,
   "metadata": {
    "collapsed": true
   },
   "outputs": [],
   "source": [
    "import pandas as pd\n",
    "import numpy as np\n",
    "from sklearn.preprocessing import LabelEncoder\n",
    "import warnings\n",
    "warnings.filterwarnings(\"ignore\")"
   ]
  },
  {
   "cell_type": "code",
   "execution_count": 215,
   "metadata": {
    "collapsed": true
   },
   "outputs": [],
   "source": [
    "train = pd.read_csv('src/train.csv')\n",
    "test = pd.read_csv('src/test.csv')"
   ]
  },
  {
   "cell_type": "code",
   "execution_count": 216,
   "metadata": {
    "collapsed": true
   },
   "outputs": [],
   "source": [
    "#ID variable\n",
    "train_ID = train['Id']\n",
    "test_ID = test['Id']"
   ]
  },
  {
   "cell_type": "markdown",
   "metadata": {},
   "source": [
    "Drop \"Id\" column"
   ]
  },
  {
   "cell_type": "code",
   "execution_count": 217,
   "metadata": {
    "collapsed": true
   },
   "outputs": [],
   "source": [
    "#drop the  'Id' colum \n",
    "train.drop(\"Id\", axis = 1, inplace = True)\n",
    "test.drop(\"Id\", axis = 1, inplace = True)"
   ]
  },
  {
   "cell_type": "markdown",
   "metadata": {},
   "source": [
    "Transform train target to ln(1+x)"
   ]
  },
  {
   "cell_type": "code",
   "execution_count": 218,
   "metadata": {
    "collapsed": true
   },
   "outputs": [],
   "source": [
    "train[\"SalePrice\"] = np.log1p(train[\"SalePrice\"])"
   ]
  },
  {
   "cell_type": "code",
   "execution_count": 219,
   "metadata": {
    "collapsed": true
   },
   "outputs": [],
   "source": [
    "y_train=train[\"SalePrice\"]"
   ]
  },
  {
   "cell_type": "code",
   "execution_count": 220,
   "metadata": {
    "collapsed": true
   },
   "outputs": [],
   "source": [
    "#drop the  target colum \n",
    "train.drop(\"SalePrice\", axis = 1, inplace = True)"
   ]
  },
  {
   "cell_type": "markdown",
   "metadata": {},
   "source": [
    "### Convert from Numerical to Categorical variables on both train and test"
   ]
  },
  {
   "cell_type": "code",
   "execution_count": 221,
   "metadata": {
    "collapsed": true
   },
   "outputs": [],
   "source": [
    "# Train\n",
    "train[\"OverallQual\"]=train[\"OverallQual\"].astype('category', ordered=True, categories=[1,2,3,4,5,6,7,8,9,10])\n",
    "train[\"MSSubClass\"]=train[\"MSSubClass\"].astype('category', ordered=False)\n",
    "train[\"OverallCond\"]=train[\"OverallCond\"].astype('category', ordered=True, categories=[1,2,3,4,5,6,7,8,9,10])\n",
    "train[\"MoSold\"]=train[\"MoSold\"].astype('category', ordered=True, categories=[1,2,3,4,5,6,7,8,9,10,11,12])\n",
    "# Test\n",
    "test[\"OverallQual\"]=test[\"OverallQual\"].astype('category', ordered=True, categories=[1,2,3,4,5,6,7,8,9,10])\n",
    "test[\"MSSubClass\"]=test[\"MSSubClass\"].astype('category', ordered=False)\n",
    "test[\"OverallCond\"]=test[\"OverallCond\"].astype('category', ordered=True, categories=[1,2,3,4,5,6,7,8,9,10])\n",
    "test[\"MoSold\"]=test[\"MoSold\"].astype('category', ordered=True, categories=[1,2,3,4,5,6,7,8,9,10,11,12])"
   ]
  },
  {
   "cell_type": "markdown",
   "metadata": {},
   "source": [
    "### Null inputation"
   ]
  },
  {
   "cell_type": "markdown",
   "metadata": {},
   "source": [
    "#### Train"
   ]
  },
  {
   "cell_type": "code",
   "execution_count": 222,
   "metadata": {
    "collapsed": true
   },
   "outputs": [],
   "source": [
    "# Alley : NA means No Alley access\n",
    "train[\"Alley\"].fillna(\"No Alley\", inplace=True)\n",
    "# MasVnrType and MasVnrArea\n",
    "train[\"MasVnrType\"].fillna(\"None\", inplace=True)\n",
    "train[\"MasVnrArea\"].fillna(0, inplace=True)\n",
    "# BsmtQual : NA means No basement\n",
    "train[\"BsmtQual\"].fillna(\"No Basement\", inplace=True)\n",
    "# BsmtCond : NA means No basement\n",
    "train[\"BsmtCond\"].fillna(\"No Basement\", inplace=True)\n",
    "# BsmtExposure : NA means No basement\n",
    "train[\"BsmtExposure\"].fillna(\"No Basement\", inplace=True)\n",
    "#  BsmtFinType1 : NA means No basement\n",
    "train[\"BsmtFinType1\"].fillna(\"No Basement\", inplace=True)\n",
    "#  BsmtFinType2 : NA means No basement\n",
    "train[\"BsmtFinType2\"].fillna(\"No Basement\", inplace=True)\n",
    "# Electrical: Mode fill\n",
    "train[\"Electrical\"].fillna(\"SBrkr\", inplace=True)\n",
    "#FireplaceQu : NA means No fireplace\n",
    "train[\"FireplaceQu\"].fillna(\"No fireplace\", inplace=True)\n",
    "#GarageType : NA means No garage\n",
    "train[\"GarageType\"].fillna(\"No garage\", inplace=True)\n",
    "#GarageFinish : NA means No garage\n",
    "train[\"GarageFinish\"].fillna(\"No garage\", inplace=True)\n",
    "#GarageQual : NA means No garage\n",
    "train[\"GarageQual\"].fillna(\"No garage\", inplace=True)\n",
    "#GarageCond : NA means No garage\n",
    "train[\"GarageCond\"].fillna(\"No garage\", inplace=True)\n",
    "#PoolQC : NA means No pool\n",
    "train[\"PoolQC\"].fillna(\"No pool\", inplace=True)\n",
    "#Fence : NA means No fence\n",
    "train[\"Fence\"].fillna(\"No fence\", inplace=True)\n",
    "#MiscFeature : NA means None\n",
    "train[\"MiscFeature\"].fillna(\"None\", inplace=True)\n",
    "#LotFrontage : Group by neighborhood and fill in missing value by the median LotFrontage of all the neighborhood\n",
    "train[\"LotFrontage\"] = train.groupby(\"Neighborhood\")[\"LotFrontage\"].transform(lambda x: x.fillna(x.median()))\n",
    "#LGarageYrBlt : Based on the above, we will fill nulls with 0\n",
    "train[\"GarageYrBlt\"].fillna(0, inplace=True)\n",
    "#BsmtFinSF1, BsmtFinSF2, BsmtUnfSF, TotalBsmtSF, BsmtFullBath and BsmtHalfBath : missing values will be replaced by 0\n",
    "for coluna in ('BsmtFinSF1', 'BsmtFinSF2', 'BsmtUnfSF','TotalBsmtSF', 'BsmtFullBath', 'BsmtHalfBath'):\n",
    "    train[coluna].fillna(0, inplace=True)\n",
    "#BsmtQual, BsmtCond, BsmtExposure, BsmtFinType1 and BsmtFinType2 : Null mean No basement\n",
    "for coluna in ('BsmtQual', 'BsmtCond', 'BsmtExposure', 'BsmtFinType1', 'BsmtFinType2'):\n",
    "    train[coluna].fillna(\"No Basement\", inplace=True)\n",
    "#Exterior1st and Exterior2nd : Both Exterior 1 & 2 have only one missing value. We will replace with the most common\n",
    "# Instead of counting the values of each category from the categoricals, I will use mode in TRAIN dataset this time\n",
    "train['Exterior1st'].fillna(train['Exterior1st'].mode()[0], inplace=True)\n",
    "train['Exterior2nd'].fillna(train['Exterior2nd'].mode()[0], inplace=True)\n",
    "# Functional : description file says NA means typical\n",
    "train[\"Functional\"].fillna(\"Typ\", inplace=True)\n",
    "#GarageYrBlt, GarageArea and GarageCars : Replacing missing data with 0 (Since No garage = no cars in such garage.)\n",
    "for coluna in ('GarageYrBlt', 'GarageArea', 'GarageCars'):\n",
    "    train[coluna].fillna(0, inplace=True)\n",
    "#KitchenQual, MSZoning,SaleType : We will use mode in TRAIN dataset\n",
    "train['KitchenQual'].fillna(train['KitchenQual'].mode()[0], inplace=True)\n",
    "train['MSZoning'].fillna(train['MSZoning'].mode()[0], inplace=True)\n",
    "train['SaleType'].fillna(train['SaleType'].mode()[0], inplace=True)"
   ]
  },
  {
   "cell_type": "markdown",
   "metadata": {},
   "source": [
    "#### Test"
   ]
  },
  {
   "cell_type": "code",
   "execution_count": 223,
   "metadata": {
    "collapsed": true
   },
   "outputs": [],
   "source": [
    "# On test we will not drop any nulls and we will use medians from train when filling missing information\n",
    "# Alley : NA means No Alley access\n",
    "test[\"Alley\"].fillna(\"No Alley\", inplace=True)\n",
    "# MasVnrType and MasVnrArea\n",
    "test[\"MasVnrType\"].fillna(\"None\", inplace=True)\n",
    "test[\"MasVnrArea\"].fillna(0, inplace=True)\n",
    "# BsmtQual : NA means No basement\n",
    "test[\"BsmtQual\"].fillna(\"No Basement\", inplace=True)\n",
    "# BsmtCond : NA means No basement\n",
    "test[\"BsmtCond\"].fillna(\"No Basement\", inplace=True)\n",
    "# BsmtExposure : NA means No basement\n",
    "test[\"BsmtExposure\"].fillna(\"No Basement\", inplace=True)\n",
    "#  BsmtFinType1 : NA means No basement\n",
    "test[\"BsmtFinType1\"].fillna(\"No Basement\", inplace=True)\n",
    "#  BsmtFinType2 : NA means No basement\n",
    "test[\"BsmtFinType2\"].fillna(\"No Basement\", inplace=True)\n",
    "# Electrical: Mode fill\n",
    "test[\"Electrical\"].fillna(\"SBrkr\", inplace=True)\n",
    "#FireplaceQu : NA means No fireplace\n",
    "test[\"FireplaceQu\"].fillna(\"No fireplace\", inplace=True)\n",
    "#GarageType : NA means No garage\n",
    "test[\"GarageType\"].fillna(\"No garage\", inplace=True)\n",
    "#GarageFinish : NA means No garage\n",
    "test[\"GarageFinish\"].fillna(\"No garage\", inplace=True)\n",
    "#GarageQual : NA means No garage\n",
    "test[\"GarageQual\"].fillna(\"No garage\", inplace=True)\n",
    "#GarageCond : NA means No garage\n",
    "test[\"GarageCond\"].fillna(\"No garage\", inplace=True)\n",
    "#PoolQC : NA means No pool\n",
    "test[\"PoolQC\"].fillna(\"No pool\", inplace=True)\n",
    "#Fence : NA means No fence\n",
    "test[\"Fence\"].fillna(\"No fence\", inplace=True)\n",
    "#MiscFeature : NA means None\n",
    "test[\"MiscFeature\"].fillna(\"None\", inplace=True)\n",
    "#LotFrontage : Group  train by neighborhood and fill in missing value by the median LotFrontage of all the neighborhood in TRAIN dataset\n",
    "test[\"LotFrontage\"] = train.groupby(\"Neighborhood\")[\"LotFrontage\"].transform(lambda x: x.fillna(x.median()))\n",
    "#LGarageYrBlt : Based on the above, we will fill nulls with 0\n",
    "test[\"GarageYrBlt\"].fillna(0, inplace=True)\n",
    "#BsmtFinSF1, BsmtFinSF2, BsmtUnfSF, TotalBsmtSF, BsmtFullBath and BsmtHalfBath : missing values will be replaced by 0\n",
    "for coluna in ('BsmtFinSF1', 'BsmtFinSF2', 'BsmtUnfSF','TotalBsmtSF', 'BsmtFullBath', 'BsmtHalfBath'):\n",
    "    test[coluna].fillna(0, inplace=True)\n",
    "#BsmtQual, BsmtCond, BsmtExposure, BsmtFinType1 and BsmtFinType2 : Null mean No basement\n",
    "for coluna in ('BsmtQual', 'BsmtCond', 'BsmtExposure', 'BsmtFinType1', 'BsmtFinType2'):\n",
    "    test[coluna].fillna(\"No Basement\", inplace=True)\n",
    "#Exterior1st and Exterior2nd : Both Exterior 1 & 2 have only one missing value. We will replace with the most common\n",
    "# Instead of counting the values of each category from the categoricals, I will use mode in TRAIN dataset this time\n",
    "test['Exterior1st'].fillna(train['Exterior1st'].mode()[0], inplace=True)\n",
    "test['Exterior2nd'].fillna(train['Exterior2nd'].mode()[0], inplace=True)\n",
    "# Functional : description file says NA means typical\n",
    "test[\"Functional\"].fillna(\"Typ\", inplace=True)\n",
    "#GarageYrBlt, GarageArea and GarageCars : Replacing missing data with 0 (Since No garage = no cars in such garage.)\n",
    "for coluna in ('GarageYrBlt', 'GarageArea', 'GarageCars'):\n",
    "    test[coluna].fillna(0, inplace=True)\n",
    "#KitchenQual, MSZoning,SaleType : We will use mode in TRAIN dataset\n",
    "test['KitchenQual'].fillna(train['KitchenQual'].mode()[0], inplace=True)\n",
    "test['MSZoning'].fillna(train['MSZoning'].mode()[0], inplace=True)\n",
    "test['SaleType'].fillna(train['SaleType'].mode()[0], inplace=True)"
   ]
  },
  {
   "cell_type": "markdown",
   "metadata": {},
   "source": [
    "Remove columns that will not be used on the model"
   ]
  },
  {
   "cell_type": "code",
   "execution_count": 224,
   "metadata": {
    "collapsed": true
   },
   "outputs": [],
   "source": [
    "remove_multicolinearity=['GarageArea', 'GarageYrBlt', 'TotRmsAbvGrd', '1stFlrSF']\n",
    "remove_categorical=['Utilities', 'Street', 'Condition2', 'PoolQC']\n",
    "remove = remove_multicolinearity + remove_categorical"
   ]
  },
  {
   "cell_type": "code",
   "execution_count": 225,
   "metadata": {
    "collapsed": true
   },
   "outputs": [],
   "source": [
    "train=train.loc[:,train.columns.difference(remove)]\n",
    "test=test.loc[:,test.columns.difference(remove)]"
   ]
  },
  {
   "cell_type": "markdown",
   "metadata": {},
   "source": [
    "Check dimensions"
   ]
  },
  {
   "cell_type": "code",
   "execution_count": 226,
   "metadata": {
    "scrolled": true
   },
   "outputs": [
    {
     "name": "stdout",
     "output_type": "stream",
     "text": [
      "<class 'pandas.core.frame.DataFrame'>\n",
      "RangeIndex: 1460 entries, 0 to 1459\n",
      "Columns: 71 entries, 2ndFlrSF to YrSold\n",
      "dtypes: category(4), float64(2), int64(26), object(39)\n",
      "memory usage: 771.9+ KB\n"
     ]
    }
   ],
   "source": [
    "train.info(verbose=False)"
   ]
  },
  {
   "cell_type": "code",
   "execution_count": 227,
   "metadata": {},
   "outputs": [
    {
     "name": "stdout",
     "output_type": "stream",
     "text": [
      "<class 'pandas.core.frame.DataFrame'>\n",
      "RangeIndex: 1459 entries, 0 to 1458\n",
      "Columns: 71 entries, 2ndFlrSF to YrSold\n",
      "dtypes: category(4), float64(9), int64(19), object(39)\n",
      "memory usage: 771.4+ KB\n"
     ]
    }
   ],
   "source": [
    "test.info(verbose=False)"
   ]
  },
  {
   "cell_type": "code",
   "execution_count": 228,
   "metadata": {
    "collapsed": true
   },
   "outputs": [],
   "source": [
    "train[\"sel\"]=\"train\"\n",
    "test[\"sel\"]=\"test\""
   ]
  },
  {
   "cell_type": "markdown",
   "metadata": {},
   "source": [
    "Concat train and test dataframes"
   ]
  },
  {
   "cell_type": "code",
   "execution_count": 229,
   "metadata": {
    "collapsed": true
   },
   "outputs": [],
   "source": [
    "concat = pd.concat((train, test)).reset_index(drop=True)"
   ]
  },
  {
   "cell_type": "code",
   "execution_count": 230,
   "metadata": {},
   "outputs": [
    {
     "name": "stdout",
     "output_type": "stream",
     "text": [
      "<class 'pandas.core.frame.DataFrame'>\n",
      "RangeIndex: 2919 entries, 0 to 2918\n",
      "Columns: 72 entries, 2ndFlrSF to sel\n",
      "dtypes: category(3), float64(9), int64(20), object(40)\n",
      "memory usage: 1.5+ MB\n"
     ]
    }
   ],
   "source": [
    "concat.info(verbose=False)"
   ]
  },
  {
   "cell_type": "markdown",
   "metadata": {},
   "source": [
    "Perform Label Encoding on Categorical Variables"
   ]
  },
  {
   "cell_type": "code",
   "execution_count": 231,
   "metadata": {},
   "outputs": [
    {
     "name": "stdout",
     "output_type": "stream",
     "text": [
      "<class 'pandas.core.frame.DataFrame'>\n",
      "RangeIndex: 2919 entries, 0 to 2918\n",
      "Columns: 72 entries, 2ndFlrSF to sel\n",
      "dtypes: float64(9), int64(63)\n",
      "memory usage: 1.6 MB\n"
     ]
    }
   ],
   "source": [
    "# Creates a list with all non numerical column labels\n",
    "cols = train.columns.difference(train._get_numeric_data().columns)\n",
    "# process columns, apply LabelEncoder to categorical features\n",
    "for c in cols:\n",
    "    lbl = LabelEncoder() \n",
    "    lbl.fit(list(concat[c].values)) \n",
    "    concat[c] = lbl.transform(list(concat[c].values))\n",
    "    \n",
    "\n",
    "# shape        \n",
    "concat.info(verbose=False)\n"
   ]
  },
  {
   "cell_type": "markdown",
   "metadata": {},
   "source": [
    "Gets the train part of the dataframe"
   ]
  },
  {
   "cell_type": "code",
   "execution_count": 235,
   "metadata": {
    "collapsed": true
   },
   "outputs": [],
   "source": [
    "X_train=concat.loc[concat[\"sel\"]==1, concat.columns !=\"sel\"]"
   ]
  },
  {
   "cell_type": "code",
   "execution_count": 236,
   "metadata": {},
   "outputs": [
    {
     "name": "stdout",
     "output_type": "stream",
     "text": [
      "<class 'pandas.core.frame.DataFrame'>\n",
      "Int64Index: 1460 entries, 0 to 1459\n",
      "Columns: 71 entries, 2ndFlrSF to YrSold\n",
      "dtypes: float64(9), int64(62)\n",
      "memory usage: 821.2 KB\n"
     ]
    }
   ],
   "source": [
    "X_train.info(verbose=False)"
   ]
  },
  {
   "cell_type": "markdown",
   "metadata": {},
   "source": [
    "Gets the test part of the dataframe"
   ]
  },
  {
   "cell_type": "code",
   "execution_count": 237,
   "metadata": {
    "collapsed": true
   },
   "outputs": [],
   "source": [
    "X_test=concat.loc[concat[\"sel\"]==0, concat.columns !=\"sel\"]"
   ]
  },
  {
   "cell_type": "code",
   "execution_count": 238,
   "metadata": {},
   "outputs": [
    {
     "name": "stdout",
     "output_type": "stream",
     "text": [
      "<class 'pandas.core.frame.DataFrame'>\n",
      "Int64Index: 1459 entries, 1460 to 2918\n",
      "Columns: 71 entries, 2ndFlrSF to YrSold\n",
      "dtypes: float64(9), int64(62)\n",
      "memory usage: 820.7 KB\n"
     ]
    }
   ],
   "source": [
    "X_test.info(verbose=False)"
   ]
  },
  {
   "cell_type": "markdown",
   "metadata": {},
   "source": [
    "Appends ID and target to train dataframe"
   ]
  },
  {
   "cell_type": "code",
   "execution_count": 239,
   "metadata": {
    "collapsed": true
   },
   "outputs": [],
   "source": [
    "train_tocsv = pd.concat((X_train, train_ID), axis=1)"
   ]
  },
  {
   "cell_type": "code",
   "execution_count": 240,
   "metadata": {
    "collapsed": true
   },
   "outputs": [],
   "source": [
    "train_tocsv = pd.concat((train_tocsv, y_train), axis=1)"
   ]
  },
  {
   "cell_type": "markdown",
   "metadata": {},
   "source": [
    "Saves the train dataframe to csv"
   ]
  },
  {
   "cell_type": "code",
   "execution_count": 241,
   "metadata": {
    "collapsed": true
   },
   "outputs": [],
   "source": [
    "train_tocsv.to_csv(\"src/X_train.csv\", index=False)"
   ]
  },
  {
   "cell_type": "markdown",
   "metadata": {},
   "source": [
    "Append the ID to the test dataframe"
   ]
  },
  {
   "cell_type": "code",
   "execution_count": 242,
   "metadata": {
    "collapsed": true
   },
   "outputs": [],
   "source": [
    "test_tocsv = pd.concat((X_test.reset_index(drop=True), test_ID), axis=1)"
   ]
  },
  {
   "cell_type": "markdown",
   "metadata": {},
   "source": [
    "Saves the test dataframe to csv"
   ]
  },
  {
   "cell_type": "code",
   "execution_count": 243,
   "metadata": {
    "collapsed": true
   },
   "outputs": [],
   "source": [
    "test_tocsv.to_csv(\"src/X_test.csv\",index=False)"
   ]
  }
 ],
 "metadata": {
  "kernelspec": {
   "display_name": "Python 3",
   "language": "python",
   "name": "python3"
  },
  "language_info": {
   "codemirror_mode": {
    "name": "ipython",
    "version": 3
   },
   "file_extension": ".py",
   "mimetype": "text/x-python",
   "name": "python",
   "nbconvert_exporter": "python",
   "pygments_lexer": "ipython3",
   "version": "3.6.1"
  }
 },
 "nbformat": 4,
 "nbformat_minor": 2
}
