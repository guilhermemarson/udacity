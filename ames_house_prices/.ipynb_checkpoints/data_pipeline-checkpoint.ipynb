{
 "cells": [
  {
   "cell_type": "markdown",
   "metadata": {},
   "source": [
    "# Data Pipeline\n",
    "### This script will run all data transformation to go from \"raw\" data to \"modelling\" data."
   ]
  },
  {
   "cell_type": "code",
   "execution_count": 33,
   "metadata": {},
   "outputs": [],
   "source": [
    "import pandas as pd\n",
    "import numpy as np\n",
    "from sklearn.preprocessing import LabelEncoder"
   ]
  },
  {
   "cell_type": "code",
   "execution_count": 16,
   "metadata": {},
   "outputs": [],
   "source": [
    "train = pd.read_csv('src/train.csv')\n",
    "test = pd.read_csv('src/test.csv')"
   ]
  },
  {
   "cell_type": "markdown",
   "metadata": {},
   "source": [
    "Drop \"Id\" column from train dataset"
   ]
  },
  {
   "cell_type": "code",
   "execution_count": 17,
   "metadata": {},
   "outputs": [],
   "source": [
    "train.drop(\"Id\", axis=1, inplace=True)"
   ]
  },
  {
   "cell_type": "markdown",
   "metadata": {},
   "source": [
    "Transform train target to ln(1+x)"
   ]
  },
  {
   "cell_type": "code",
   "execution_count": 18,
   "metadata": {},
   "outputs": [],
   "source": [
    "train[\"SalePrice\"] = np.log1p(train[\"SalePrice\"])"
   ]
  },
  {
   "cell_type": "markdown",
   "metadata": {},
   "source": [
    "### Convert from Numerical to Categorical variables on both train and test"
   ]
  },
  {
   "cell_type": "code",
   "execution_count": 19,
   "metadata": {},
   "outputs": [
    {
     "name": "stderr",
     "output_type": "stream",
     "text": [
      "/anaconda3/lib/python3.6/site-packages/ipykernel_launcher.py:2: FutureWarning: specifying 'categories' or 'ordered' in .astype() is deprecated; pass a CategoricalDtype instead\n",
      "  \n",
      "/anaconda3/lib/python3.6/site-packages/ipykernel_launcher.py:3: FutureWarning: specifying 'categories' or 'ordered' in .astype() is deprecated; pass a CategoricalDtype instead\n",
      "  This is separate from the ipykernel package so we can avoid doing imports until\n",
      "/anaconda3/lib/python3.6/site-packages/ipykernel_launcher.py:4: FutureWarning: specifying 'categories' or 'ordered' in .astype() is deprecated; pass a CategoricalDtype instead\n",
      "  after removing the cwd from sys.path.\n",
      "/anaconda3/lib/python3.6/site-packages/ipykernel_launcher.py:5: FutureWarning: specifying 'categories' or 'ordered' in .astype() is deprecated; pass a CategoricalDtype instead\n",
      "  \"\"\"\n",
      "/anaconda3/lib/python3.6/site-packages/ipykernel_launcher.py:7: FutureWarning: specifying 'categories' or 'ordered' in .astype() is deprecated; pass a CategoricalDtype instead\n",
      "  import sys\n",
      "/anaconda3/lib/python3.6/site-packages/ipykernel_launcher.py:8: FutureWarning: specifying 'categories' or 'ordered' in .astype() is deprecated; pass a CategoricalDtype instead\n",
      "  \n",
      "/anaconda3/lib/python3.6/site-packages/ipykernel_launcher.py:9: FutureWarning: specifying 'categories' or 'ordered' in .astype() is deprecated; pass a CategoricalDtype instead\n",
      "  if __name__ == '__main__':\n",
      "/anaconda3/lib/python3.6/site-packages/ipykernel_launcher.py:10: FutureWarning: specifying 'categories' or 'ordered' in .astype() is deprecated; pass a CategoricalDtype instead\n",
      "  # Remove the CWD from sys.path while we load stuff.\n"
     ]
    }
   ],
   "source": [
    "# Train\n",
    "train[\"OverallQual\"]=train[\"OverallQual\"].astype('category', ordered=True, categories=[1,2,3,4,5,6,7,8,9,10])\n",
    "train[\"MSSubClass\"]=train[\"MSSubClass\"].astype('category', ordered=False)\n",
    "train[\"OverallCond\"]=train[\"OverallCond\"].astype('category', ordered=True, categories=[1,2,3,4,5,6,7,8,9,10])\n",
    "train[\"MoSold\"]=train[\"MoSold\"].astype('category', ordered=True, categories=[1,2,3,4,5,6,7,8,9,10,11,12])\n",
    "# Test\n",
    "test[\"OverallQual\"]=test[\"OverallQual\"].astype('category', ordered=True, categories=[1,2,3,4,5,6,7,8,9,10])\n",
    "test[\"MSSubClass\"]=test[\"MSSubClass\"].astype('category', ordered=False)\n",
    "test[\"OverallCond\"]=test[\"OverallCond\"].astype('category', ordered=True, categories=[1,2,3,4,5,6,7,8,9,10])\n",
    "test[\"MoSold\"]=test[\"MoSold\"].astype('category', ordered=True, categories=[1,2,3,4,5,6,7,8,9,10,11,12])"
   ]
  },
  {
   "cell_type": "markdown",
   "metadata": {},
   "source": [
    "### Null inputation"
   ]
  },
  {
   "cell_type": "markdown",
   "metadata": {},
   "source": [
    "#### Train"
   ]
  },
  {
   "cell_type": "code",
   "execution_count": 20,
   "metadata": {},
   "outputs": [],
   "source": [
    "# Alley : NA means No Alley access\n",
    "train[\"Alley\"].fillna(\"No Alley\", inplace=True)\n",
    "#MasVnrType: Drop nulls only on train\n",
    "train.dropna(axis=0,subset=[\"MasVnrType\"], inplace=True)\n",
    "train.reset_index(drop=True, inplace=True)\n",
    "# BsmtQual : NA means No basement\n",
    "train[\"BsmtQual\"].fillna(\"No Basement\", inplace=True)\n",
    "# BsmtCond : NA means No basement\n",
    "train[\"BsmtCond\"].fillna(\"No Basement\", inplace=True)\n",
    "# BsmtExposure : NA means No basement\n",
    "train[\"BsmtExposure\"].fillna(\"No Basement\", inplace=True)\n",
    "#  BsmtFinType1 : NA means No basement\n",
    "train[\"BsmtFinType1\"].fillna(\"No Basement\", inplace=True)\n",
    "#  BsmtFinType2 : NA means No basement\n",
    "train[\"BsmtFinType2\"].fillna(\"No Basement\", inplace=True)\n",
    "# Electrical: Mode fill\n",
    "train[\"Electrical\"].fillna(\"SBrkr\", inplace=True)\n",
    "#FireplaceQu : NA means No fireplace\n",
    "train[\"FireplaceQu\"].fillna(\"No fireplace\", inplace=True)\n",
    "#GarageType : NA means No garage\n",
    "train[\"GarageType\"].fillna(\"No garage\", inplace=True)\n",
    "#GarageFinish : NA means No garage\n",
    "train[\"GarageFinish\"].fillna(\"No garage\", inplace=True)\n",
    "#GarageQual : NA means No garage\n",
    "train[\"GarageQual\"].fillna(\"No garage\", inplace=True)\n",
    "#GarageCond : NA means No garage\n",
    "train[\"GarageCond\"].fillna(\"No garage\", inplace=True)\n",
    "#PoolQC : NA means No pool\n",
    "train[\"PoolQC\"].fillna(\"No pool\", inplace=True)\n",
    "#Fence : NA means No fence\n",
    "train[\"Fence\"].fillna(\"No fence\", inplace=True)\n",
    "#MiscFeature : NA means None\n",
    "train[\"MiscFeature\"].fillna(\"None\", inplace=True)\n",
    "#LotFrontage : Group by neighborhood and fill in missing value by the median LotFrontage of all the neighborhood\n",
    "train[\"LotFrontage\"] = train.groupby(\"Neighborhood\")[\"LotFrontage\"].transform(lambda x: x.fillna(x.median()))\n",
    "#LGarageYrBlt : Based on the above, we will fill nulls with 0\n",
    "train[\"GarageYrBlt\"].fillna(0, inplace=True)"
   ]
  },
  {
   "cell_type": "markdown",
   "metadata": {},
   "source": [
    "#### Test"
   ]
  },
  {
   "cell_type": "code",
   "execution_count": 21,
   "metadata": {},
   "outputs": [],
   "source": [
    "# On test we will not drop any nulls and we will use medians from train when filling missing information\n",
    "# Alley : NA means No Alley access\n",
    "test[\"Alley\"].fillna(\"No Alley\", inplace=True)\n",
    "# BsmtQual : NA means No basement\n",
    "test[\"BsmtQual\"].fillna(\"No Basement\", inplace=True)\n",
    "# BsmtCond : NA means No basement\n",
    "test[\"BsmtCond\"].fillna(\"No Basement\", inplace=True)\n",
    "# BsmtExposure : NA means No basement\n",
    "test[\"BsmtExposure\"].fillna(\"No Basement\", inplace=True)\n",
    "#  BsmtFinType1 : NA means No basement\n",
    "test[\"BsmtFinType1\"].fillna(\"No Basement\", inplace=True)\n",
    "#  BsmtFinType2 : NA means No basement\n",
    "test[\"BsmtFinType2\"].fillna(\"No Basement\", inplace=True)\n",
    "# Electrical: Mode fill\n",
    "test[\"Electrical\"].fillna(\"SBrkr\", inplace=True)\n",
    "#FireplaceQu : NA means No fireplace\n",
    "test[\"FireplaceQu\"].fillna(\"No fireplace\", inplace=True)\n",
    "#GarageType : NA means No garage\n",
    "test[\"GarageType\"].fillna(\"No garage\", inplace=True)\n",
    "#GarageFinish : NA means No garage\n",
    "test[\"GarageFinish\"].fillna(\"No garage\", inplace=True)\n",
    "#GarageQual : NA means No garage\n",
    "test[\"GarageQual\"].fillna(\"No garage\", inplace=True)\n",
    "#GarageCond : NA means No garage\n",
    "test[\"GarageCond\"].fillna(\"No garage\", inplace=True)\n",
    "#PoolQC : NA means No pool\n",
    "test[\"PoolQC\"].fillna(\"No pool\", inplace=True)\n",
    "#Fence : NA means No fence\n",
    "test[\"Fence\"].fillna(\"No fence\", inplace=True)\n",
    "#MiscFeature : NA means None\n",
    "test[\"MiscFeature\"].fillna(\"None\", inplace=True)\n",
    "#LotFrontage : Group  train by neighborhood and fill in missing value by the median LotFrontage of all the neighborhood\n",
    "test[\"LotFrontage\"] = train.groupby(\"Neighborhood\")[\"LotFrontage\"].transform(lambda x: x.fillna(x.median()))\n",
    "#LGarageYrBlt : Based on the above, we will fill nulls with 0\n",
    "test[\"GarageYrBlt\"].fillna(0, inplace=True)"
   ]
  },
  {
   "cell_type": "markdown",
   "metadata": {},
   "source": [
    "Remove columns that will not be used on the model"
   ]
  },
  {
   "cell_type": "code",
   "execution_count": 22,
   "metadata": {},
   "outputs": [],
   "source": [
    "remove_multicolinearity=['GarageArea', 'GarageYrBlt', 'TotRmsAbvGrd', '1stFlrSF']\n",
    "remove_categorical=['Utilities', 'Street', 'Condition2', 'PoolQC']\n",
    "remove = remove_multicolinearity + remove_categorical"
   ]
  },
  {
   "cell_type": "code",
   "execution_count": 23,
   "metadata": {},
   "outputs": [],
   "source": [
    "train=train.loc[:,train.columns.difference(remove)]\n",
    "test=test.loc[:,test.columns.difference(remove)]"
   ]
  },
  {
   "cell_type": "code",
   "execution_count": 37,
   "metadata": {},
   "outputs": [
    {
     "name": "stdout",
     "output_type": "stream",
     "text": [
      "<class 'pandas.core.frame.DataFrame'>\n",
      "RangeIndex: 1452 entries, 0 to 1451\n",
      "Columns: 72 entries, 2ndFlrSF to YrSold\n",
      "dtypes: category(4), float64(3), int64(26), object(39)\n",
      "memory usage: 779.1+ KB\n"
     ]
    }
   ],
   "source": [
    "train.info(verbose=False)"
   ]
  },
  {
   "cell_type": "code",
   "execution_count": 42,
   "metadata": {},
   "outputs": [
    {
     "ename": "ValueError",
     "evalue": "y contains new labels: ['nan']",
     "output_type": "error",
     "traceback": [
      "\u001b[0;31m---------------------------------------------------------------------------\u001b[0m",
      "\u001b[0;31mValueError\u001b[0m                                Traceback (most recent call last)",
      "\u001b[0;32m<ipython-input-42-b9baf35648df>\u001b[0m in \u001b[0;36m<module>\u001b[0;34m()\u001b[0m\n\u001b[1;32m      6\u001b[0m     \u001b[0mlbl\u001b[0m\u001b[0;34m.\u001b[0m\u001b[0mfit\u001b[0m\u001b[0;34m(\u001b[0m\u001b[0mlist\u001b[0m\u001b[0;34m(\u001b[0m\u001b[0mtrain\u001b[0m\u001b[0;34m[\u001b[0m\u001b[0mc\u001b[0m\u001b[0;34m]\u001b[0m\u001b[0;34m.\u001b[0m\u001b[0mvalues\u001b[0m\u001b[0;34m)\u001b[0m\u001b[0;34m)\u001b[0m\u001b[0;34m\u001b[0m\u001b[0m\n\u001b[1;32m      7\u001b[0m     \u001b[0mtrain\u001b[0m\u001b[0;34m[\u001b[0m\u001b[0mc\u001b[0m\u001b[0;34m]\u001b[0m \u001b[0;34m=\u001b[0m \u001b[0mlbl\u001b[0m\u001b[0;34m.\u001b[0m\u001b[0mtransform\u001b[0m\u001b[0;34m(\u001b[0m\u001b[0mlist\u001b[0m\u001b[0;34m(\u001b[0m\u001b[0mtrain\u001b[0m\u001b[0;34m[\u001b[0m\u001b[0mc\u001b[0m\u001b[0;34m]\u001b[0m\u001b[0;34m.\u001b[0m\u001b[0mvalues\u001b[0m\u001b[0;34m)\u001b[0m\u001b[0;34m)\u001b[0m\u001b[0;34m\u001b[0m\u001b[0m\n\u001b[0;32m----> 8\u001b[0;31m     \u001b[0mtest\u001b[0m\u001b[0;34m[\u001b[0m\u001b[0mc\u001b[0m\u001b[0;34m]\u001b[0m \u001b[0;34m=\u001b[0m \u001b[0mlbl\u001b[0m\u001b[0;34m.\u001b[0m\u001b[0mtransform\u001b[0m\u001b[0;34m(\u001b[0m\u001b[0mlist\u001b[0m\u001b[0;34m(\u001b[0m\u001b[0mtest\u001b[0m\u001b[0;34m[\u001b[0m\u001b[0mc\u001b[0m\u001b[0;34m]\u001b[0m\u001b[0;34m.\u001b[0m\u001b[0mvalues\u001b[0m\u001b[0;34m)\u001b[0m\u001b[0;34m)\u001b[0m\u001b[0;34m\u001b[0m\u001b[0m\n\u001b[0m\u001b[1;32m      9\u001b[0m \u001b[0;34m\u001b[0m\u001b[0m\n\u001b[1;32m     10\u001b[0m \u001b[0;31m# shape\u001b[0m\u001b[0;34m\u001b[0m\u001b[0;34m\u001b[0m\u001b[0m\n",
      "\u001b[0;32m/anaconda3/lib/python3.6/site-packages/sklearn/preprocessing/label.py\u001b[0m in \u001b[0;36mtransform\u001b[0;34m(self, y)\u001b[0m\n\u001b[1;32m    131\u001b[0m         \u001b[0;32mif\u001b[0m \u001b[0mlen\u001b[0m\u001b[0;34m(\u001b[0m\u001b[0mnp\u001b[0m\u001b[0;34m.\u001b[0m\u001b[0mintersect1d\u001b[0m\u001b[0;34m(\u001b[0m\u001b[0mclasses\u001b[0m\u001b[0;34m,\u001b[0m \u001b[0mself\u001b[0m\u001b[0;34m.\u001b[0m\u001b[0mclasses_\u001b[0m\u001b[0;34m)\u001b[0m\u001b[0;34m)\u001b[0m \u001b[0;34m<\u001b[0m \u001b[0mlen\u001b[0m\u001b[0;34m(\u001b[0m\u001b[0mclasses\u001b[0m\u001b[0;34m)\u001b[0m\u001b[0;34m:\u001b[0m\u001b[0;34m\u001b[0m\u001b[0m\n\u001b[1;32m    132\u001b[0m             \u001b[0mdiff\u001b[0m \u001b[0;34m=\u001b[0m \u001b[0mnp\u001b[0m\u001b[0;34m.\u001b[0m\u001b[0msetdiff1d\u001b[0m\u001b[0;34m(\u001b[0m\u001b[0mclasses\u001b[0m\u001b[0;34m,\u001b[0m \u001b[0mself\u001b[0m\u001b[0;34m.\u001b[0m\u001b[0mclasses_\u001b[0m\u001b[0;34m)\u001b[0m\u001b[0;34m\u001b[0m\u001b[0m\n\u001b[0;32m--> 133\u001b[0;31m             \u001b[0;32mraise\u001b[0m \u001b[0mValueError\u001b[0m\u001b[0;34m(\u001b[0m\u001b[0;34m\"y contains new labels: %s\"\u001b[0m \u001b[0;34m%\u001b[0m \u001b[0mstr\u001b[0m\u001b[0;34m(\u001b[0m\u001b[0mdiff\u001b[0m\u001b[0;34m)\u001b[0m\u001b[0;34m)\u001b[0m\u001b[0;34m\u001b[0m\u001b[0m\n\u001b[0m\u001b[1;32m    134\u001b[0m         \u001b[0;32mreturn\u001b[0m \u001b[0mnp\u001b[0m\u001b[0;34m.\u001b[0m\u001b[0msearchsorted\u001b[0m\u001b[0;34m(\u001b[0m\u001b[0mself\u001b[0m\u001b[0;34m.\u001b[0m\u001b[0mclasses_\u001b[0m\u001b[0;34m,\u001b[0m \u001b[0my\u001b[0m\u001b[0;34m)\u001b[0m\u001b[0;34m\u001b[0m\u001b[0m\n\u001b[1;32m    135\u001b[0m \u001b[0;34m\u001b[0m\u001b[0m\n",
      "\u001b[0;31mValueError\u001b[0m: y contains new labels: ['nan']"
     ]
    }
   ],
   "source": [
    "\n",
    "cols = train.columns.difference(train._get_numeric_data().columns)\n",
    "# process columns, apply LabelEncoder to categorical features\n",
    "for c in cols:\n",
    "    lbl = LabelEncoder() \n",
    "    lbl.fit(list(train[c].values)) \n",
    "    train[c] = lbl.transform(list(train[c].values))\n",
    "    test[c] = lbl.transform(list(test[c].values))\n",
    "\n",
    "# shape        \n",
    "print('Shape train: {}'.format(train.shape))\n",
    "print('Shape test: {}'.format(test.shape))"
   ]
  },
  {
   "cell_type": "code",
   "execution_count": 44,
   "metadata": {},
   "outputs": [
    {
     "data": {
      "text/plain": [
       "2ndFlrSF          0\n",
       "3SsnPorch         0\n",
       "Alley             0\n",
       "BedroomAbvGr      0\n",
       "BldgType          0\n",
       "BsmtCond          0\n",
       "BsmtExposure      0\n",
       "BsmtFinSF1        1\n",
       "BsmtFinSF2        1\n",
       "BsmtFinType1      0\n",
       "BsmtFinType2      0\n",
       "BsmtFullBath      2\n",
       "BsmtHalfBath      2\n",
       "BsmtQual          0\n",
       "BsmtUnfSF         1\n",
       "CentralAir        0\n",
       "Condition1        0\n",
       "Electrical        0\n",
       "EnclosedPorch     0\n",
       "ExterCond         0\n",
       "ExterQual         0\n",
       "Exterior1st       1\n",
       "Exterior2nd       1\n",
       "Fence             0\n",
       "FireplaceQu       0\n",
       "Fireplaces        0\n",
       "Foundation        0\n",
       "FullBath          0\n",
       "Functional        2\n",
       "GarageCars        1\n",
       "                 ..\n",
       "LandContour       0\n",
       "LandSlope         0\n",
       "LotArea           0\n",
       "LotConfig         0\n",
       "LotFrontage       7\n",
       "LotShape          0\n",
       "LowQualFinSF      0\n",
       "MSSubClass        0\n",
       "MSZoning          4\n",
       "MasVnrArea       15\n",
       "MasVnrType       16\n",
       "MiscFeature       0\n",
       "MiscVal           0\n",
       "MoSold            0\n",
       "Neighborhood      0\n",
       "OpenPorchSF       0\n",
       "OverallCond       0\n",
       "OverallQual       0\n",
       "PavedDrive        0\n",
       "PoolArea          0\n",
       "RoofMatl          0\n",
       "RoofStyle         0\n",
       "SaleCondition     0\n",
       "SaleType          1\n",
       "ScreenPorch       0\n",
       "TotalBsmtSF       1\n",
       "WoodDeckSF        0\n",
       "YearBuilt         0\n",
       "YearRemodAdd      0\n",
       "YrSold            0\n",
       "Length: 72, dtype: int64"
      ]
     },
     "execution_count": 44,
     "metadata": {},
     "output_type": "execute_result"
    }
   ],
   "source": [
    "test.isnull().sum()"
   ]
  },
  {
   "cell_type": "code",
   "execution_count": 24,
   "metadata": {},
   "outputs": [
    {
     "data": {
      "text/plain": [
       "(1452, 72)"
      ]
     },
     "execution_count": 24,
     "metadata": {},
     "output_type": "execute_result"
    }
   ],
   "source": [
    "train.shape"
   ]
  },
  {
   "cell_type": "code",
   "execution_count": 25,
   "metadata": {},
   "outputs": [
    {
     "data": {
      "text/plain": [
       "(1459, 72)"
      ]
     },
     "execution_count": 25,
     "metadata": {},
     "output_type": "execute_result"
    }
   ],
   "source": [
    "test.shape"
   ]
  },
  {
   "cell_type": "code",
   "execution_count": 29,
   "metadata": {},
   "outputs": [],
   "source": [
    "x=pd.get_dummies(train)"
   ]
  },
  {
   "cell_type": "code",
   "execution_count": 30,
   "metadata": {},
   "outputs": [
    {
     "data": {
      "text/plain": [
       "(1452, 326)"
      ]
     },
     "execution_count": 30,
     "metadata": {},
     "output_type": "execute_result"
    }
   ],
   "source": [
    "x.shape"
   ]
  },
  {
   "cell_type": "code",
   "execution_count": 31,
   "metadata": {},
   "outputs": [],
   "source": [
    "s=pd.get_dummies(test)"
   ]
  },
  {
   "cell_type": "code",
   "execution_count": 32,
   "metadata": {},
   "outputs": [
    {
     "data": {
      "text/plain": [
       "(1459, 314)"
      ]
     },
     "execution_count": 32,
     "metadata": {},
     "output_type": "execute_result"
    }
   ],
   "source": [
    "s.shape"
   ]
  },
  {
   "cell_type": "code",
   "execution_count": null,
   "metadata": {},
   "outputs": [],
   "source": []
  }
 ],
 "metadata": {
  "kernelspec": {
   "display_name": "Python 3",
   "language": "python",
   "name": "python3"
  },
  "language_info": {
   "codemirror_mode": {
    "name": "ipython",
    "version": 3
   },
   "file_extension": ".py",
   "mimetype": "text/x-python",
   "name": "python",
   "nbconvert_exporter": "python",
   "pygments_lexer": "ipython3",
   "version": "3.6.5"
  }
 },
 "nbformat": 4,
 "nbformat_minor": 2
}
